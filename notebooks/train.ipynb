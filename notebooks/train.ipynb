{
 "cells": [
  {
   "cell_type": "code",
   "execution_count": null,
   "metadata": {},
   "outputs": [],
   "source": [
    "import torch\n",
    "from pssr.data import ImageDataset, SlidingDataset, PairedImageDataset, PairedSlidingDataset\n",
    "from pssr.crappifiers import AdditiveGaussian, Poisson, SaltPepper, MultiCrappifier\n",
    "from pssr.models import ResUNet, RDResUNet, SwinIR\n",
    "from pssr.util import SSIMLoss\n",
    "from pssr.train import train_paired"
   ]
  },
  {
   "cell_type": "code",
   "execution_count": null,
   "metadata": {},
   "outputs": [],
   "source": [
    "data_path = \"your/path\" # Folder to load images from\n",
    "hr_res = 512 # Resolution of images or image tiles\n",
    "lr_scale = 4 # Scale ratio between low-resolution and high-resolution images, shared between dataset and model\n",
    "n_frames = -1 # Set to amount of stacked frames if using 2.5D or 3D data\n",
    "\n",
    "# Crappifier parameters should be adjusted to match your data\n",
    "crappifier = MultiCrappifier(Poisson(intensity=1.2, spread=0.05), SaltPepper(spread=0.1))\n",
    "\n",
    "# Use SlidingDataset instead to load from image sheets (e.g. .czi files)\n",
    "dataset = ImageDataset(data_path, hr_res, lr_scale, n_frames, crappifier)\n",
    "\n",
    "# A ResUNet runs fast for the quality of the predictions, although any PyTorch model can be used\n",
    "model = ResUNet(\n",
    "    channels=1 if n_frames == -1 else n_frames,\n",
    "    scale=lr_scale,\n",
    ")"
   ]
  },
  {
   "cell_type": "code",
   "execution_count": null,
   "metadata": {},
   "outputs": [],
   "source": [
    "# Consider increasing or decreasing batch size for your amount of allocated memory\n",
    "batch_size = 16\n",
    "\n",
    "device = \"cuda\" if torch.cuda.is_available() else \"cpu\"\n",
    "kwargs = dict(\n",
    "    num_workers = 4,\n",
    "    pin_memory = True,\n",
    ")"
   ]
  },
  {
   "cell_type": "code",
   "execution_count": null,
   "metadata": {},
   "outputs": [],
   "source": [
    "epochs = 10\n",
    "lr = 1e-3\n",
    "\n",
    "log_frequency = 50 # Decrease to log losses more often\n",
    "save_checkpoints = True # Save model checkpoints\n",
    "epoch_collage = True # View training progress as images (LR, PSSR, HR pairs)\n",
    "\n",
    "# Simple scheduler options\n",
    "factor = 0.1\n",
    "patience = 3\n",
    "\n",
    "# MS-SSIM loss typically trains faster than MSE loss\n",
    "loss_fn = SSIMLoss()\n",
    "optim = torch.optim.AdamW(model.parameters(), lr=lr)\n",
    "scheduler = torch.optim.lr_scheduler.ReduceLROnPlateau(optim, factor=factor, patience=patience, threshold=5e-3)\n",
    "\n",
    "train_losses, val_losses = train_paired(\n",
    "    model=model,\n",
    "    dataset=dataset,\n",
    "    batch_size=batch_size,\n",
    "    loss_fn=loss_fn,\n",
    "    optim=optim,\n",
    "    epochs=epochs,\n",
    "    device=device,\n",
    "    scheduler=scheduler,\n",
    "    log_frequency=log_frequency,\n",
    "    checkpoint_dir=\"checkpoints\" if save_checkpoints else None,\n",
    "    collage_dir=\"collages\" if epoch_collage else None,\n",
    "    dataloader_kwargs=kwargs,\n",
    ")"
   ]
  },
  {
   "cell_type": "code",
   "execution_count": null,
   "metadata": {},
   "outputs": [],
   "source": [
    "torch.save(model.state_dict(), f\"model_{hr_res//lr_scale}-{hr_res}_{val_losses[-1]:.3f}.pth\")"
   ]
  },
  {
   "cell_type": "code",
   "execution_count": null,
   "metadata": {},
   "outputs": [],
   "source": [
    "import matplotlib.pyplot as plt\n",
    "plt.plot(train_losses)"
   ]
  }
 ],
 "metadata": {
  "kernelspec": {
   "display_name": "base",
   "language": "python",
   "name": "python3"
  },
  "language_info": {
   "codemirror_mode": {
    "name": "ipython",
    "version": 3
   },
   "file_extension": ".py",
   "mimetype": "text/x-python",
   "name": "python",
   "nbconvert_exporter": "python",
   "pygments_lexer": "ipython3",
   "version": "3.11.4"
  }
 },
 "nbformat": 4,
 "nbformat_minor": 2
}
